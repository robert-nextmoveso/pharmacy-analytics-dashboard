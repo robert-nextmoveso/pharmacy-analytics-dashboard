{
 "cells": [
  {
   "cell_type": "code",
   "execution_count": 1,
   "id": "74037800",
   "metadata": {},
   "outputs": [
    {
     "name": "stdout",
     "output_type": "stream",
     "text": [
      "API error: 500 Server Error: Internal Server Error for url: https://api.fda.gov/drug/enforcement.json?search=report_date%3A%5B2020-10-07%2BTO%2B2025-10-06%5D&limit=300&skip=0\n",
      "Fallback to sample data if API fails.\n"
     ]
    },
    {
     "ename": "KeyError",
     "evalue": "'action_date'",
     "output_type": "error",
     "traceback": [
      "\u001b[31m---------------------------------------------------------------------------\u001b[39m",
      "\u001b[31mKeyError\u001b[39m                                  Traceback (most recent call last)",
      "\u001b[36mCell\u001b[39m\u001b[36m \u001b[39m\u001b[32mIn[1]\u001b[39m\u001b[32m, line 15\u001b[39m\n\u001b[32m     11\u001b[39m     \u001b[38;5;28mprint\u001b[39m(\u001b[33m\"\u001b[39m\u001b[33mFallback to sample data if API fails.\u001b[39m\u001b[33m\"\u001b[39m)\n\u001b[32m     12\u001b[39m     \u001b[38;5;66;03m# Optional: Load static CSV as backup\u001b[39;00m\n\u001b[32m     13\u001b[39m \n\u001b[32m     14\u001b[39m \u001b[38;5;66;03m# Rest of EDA (adapt columns to API fields, e.g., 'action_date' for trends)\u001b[39;00m\n\u001b[32m---> \u001b[39m\u001b[32m15\u001b[39m df[\u001b[33m'\u001b[39m\u001b[33maction_date\u001b[39m\u001b[33m'\u001b[39m] = pd.to_datetime(\u001b[43mdf\u001b[49m\u001b[43m[\u001b[49m\u001b[33;43m'\u001b[39;49m\u001b[33;43maction_date\u001b[39;49m\u001b[33;43m'\u001b[39;49m\u001b[43m]\u001b[49m, errors=\u001b[33m'\u001b[39m\u001b[33mcoerce\u001b[39m\u001b[33m'\u001b[39m)  \u001b[38;5;66;03m# Ensure datetime\u001b[39;00m\n\u001b[32m     16\u001b[39m daily_trends = df.groupby(df[\u001b[33m'\u001b[39m\u001b[33maction_date\u001b[39m\u001b[33m'\u001b[39m].dt.date)[\u001b[33m'\u001b[39m\u001b[33mtotal_amount\u001b[39m\u001b[33m'\u001b[39m].sum().reset_index()\n\u001b[32m     17\u001b[39m fig1 = px.line(daily_trends, x=\u001b[33m'\u001b[39m\u001b[33maction_date\u001b[39m\u001b[33m'\u001b[39m, y=\u001b[33m'\u001b[39m\u001b[33mtotal_amount\u001b[39m\u001b[33m'\u001b[39m, title=\u001b[33m'\u001b[39m\u001b[33mDynamic Recall Trends (API-Fetched)\u001b[39m\u001b[33m'\u001b[39m)\n",
      "\u001b[36mFile \u001b[39m\u001b[32m~\\AppData\\Local\\Packages\\PythonSoftwareFoundation.Python.3.11_qbz5n2kfra8p0\\LocalCache\\local-packages\\Python311\\site-packages\\pandas\\core\\frame.py:4113\u001b[39m, in \u001b[36mDataFrame.__getitem__\u001b[39m\u001b[34m(self, key)\u001b[39m\n\u001b[32m   4111\u001b[39m \u001b[38;5;28;01mif\u001b[39;00m \u001b[38;5;28mself\u001b[39m.columns.nlevels > \u001b[32m1\u001b[39m:\n\u001b[32m   4112\u001b[39m     \u001b[38;5;28;01mreturn\u001b[39;00m \u001b[38;5;28mself\u001b[39m._getitem_multilevel(key)\n\u001b[32m-> \u001b[39m\u001b[32m4113\u001b[39m indexer = \u001b[38;5;28;43mself\u001b[39;49m\u001b[43m.\u001b[49m\u001b[43mcolumns\u001b[49m\u001b[43m.\u001b[49m\u001b[43mget_loc\u001b[49m\u001b[43m(\u001b[49m\u001b[43mkey\u001b[49m\u001b[43m)\u001b[49m\n\u001b[32m   4114\u001b[39m \u001b[38;5;28;01mif\u001b[39;00m is_integer(indexer):\n\u001b[32m   4115\u001b[39m     indexer = [indexer]\n",
      "\u001b[36mFile \u001b[39m\u001b[32m~\\AppData\\Local\\Packages\\PythonSoftwareFoundation.Python.3.11_qbz5n2kfra8p0\\LocalCache\\local-packages\\Python311\\site-packages\\pandas\\core\\indexes\\range.py:417\u001b[39m, in \u001b[36mRangeIndex.get_loc\u001b[39m\u001b[34m(self, key)\u001b[39m\n\u001b[32m    415\u001b[39m         \u001b[38;5;28;01mraise\u001b[39;00m \u001b[38;5;167;01mKeyError\u001b[39;00m(key) \u001b[38;5;28;01mfrom\u001b[39;00m\u001b[38;5;250m \u001b[39m\u001b[34;01merr\u001b[39;00m\n\u001b[32m    416\u001b[39m \u001b[38;5;28;01mif\u001b[39;00m \u001b[38;5;28misinstance\u001b[39m(key, Hashable):\n\u001b[32m--> \u001b[39m\u001b[32m417\u001b[39m     \u001b[38;5;28;01mraise\u001b[39;00m \u001b[38;5;167;01mKeyError\u001b[39;00m(key)\n\u001b[32m    418\u001b[39m \u001b[38;5;28mself\u001b[39m._check_indexing_error(key)\n\u001b[32m    419\u001b[39m \u001b[38;5;28;01mraise\u001b[39;00m \u001b[38;5;167;01mKeyError\u001b[39;00m(key)\n",
      "\u001b[31mKeyError\u001b[39m: 'action_date'"
     ]
    }
   ],
   "source": [
    "import pandas as pd\n",
    "import numpy as np\n",
    "import matplotlib.pyplot as plt\n",
    "import seaborn as sns\n",
    "import plotly.express as px\n",
    "from api_utils import fetch_pharmacy_data  # Import helper\n",
    "\n",
    "# Dynamic load\n",
    "df = fetch_pharmacy_data(limit=300)  # Pull fresh data\n",
    "if df.empty:\n",
    "    print(\"Fallback to sample data if API fails.\")\n",
    "    # Optional: Load static CSV as backup\n",
    "\n",
    "# Rest of EDA (adapt columns to API fields, e.g., 'action_date' for trends)\n",
    "df['action_date'] = pd.to_datetime(df['action_date'], errors='coerce')  # Ensure datetime\n",
    "daily_trends = df.groupby(df['action_date'].dt.date)['total_amount'].sum().reset_index()\n",
    "fig1 = px.line(daily_trends, x='action_date', y='total_amount', title='Dynamic Recall Trends (API-Fetched)')\n",
    "fig1.show()\n",
    "\n",
    "# Top products (recalls by product)\n",
    "top_products = df.groupby('product_name')['quantity_involved'].sum().sort_values(ascending=False).head(10)\n",
    "plt.figure(figsize=(10, 6))\n",
    "sns.barplot(x=top_products.values, y=top_products.index, palette='viridis')\n",
    "plt.title('Top Products by Quantity Involved (Dynamic Data)')\n",
    "plt.show()\n",
    "\n",
    "# Correlation heatmap (adapt to numerical cols like quantity, mock total_amount)\n",
    "numerical_df = df.select_dtypes(include=[np.number])\n",
    "corr = numerical_df.corr()\n",
    "plt.figure(figsize=(8, 6))\n",
    "sns.heatmap(corr, annot=True, cmap='coolwarm')\n",
    "plt.title('Dynamic Data Correlations')\n",
    "plt.show()\n",
    "\n",
    "print(f\"Average quantity involved: {df['quantity_involved'].mean():.2f}\")\n",
    "print(f\"Most common reason: {df['reason'].mode()[0] if not df['reason'].mode().empty else 'N/A'}\")"
   ]
  },
  {
   "cell_type": "code",
   "execution_count": null,
   "id": "918379ff",
   "metadata": {},
   "outputs": [],
   "source": []
  }
 ],
 "metadata": {
  "kernelspec": {
   "display_name": "Python 3",
   "language": "python",
   "name": "python3"
  },
  "language_info": {
   "codemirror_mode": {
    "name": "ipython",
    "version": 3
   },
   "file_extension": ".py",
   "mimetype": "text/x-python",
   "name": "python",
   "nbconvert_exporter": "python",
   "pygments_lexer": "ipython3",
   "version": "3.11.9"
  }
 },
 "nbformat": 4,
 "nbformat_minor": 5
}
