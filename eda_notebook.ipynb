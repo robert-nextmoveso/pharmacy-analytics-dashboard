{
 "cells": [
  {
   "cell_type": "code",
   "execution_count": 2,
   "id": "74037800",
   "metadata": {},
   "outputs": [
    {
     "name": "stdout",
     "output_type": "stream",
     "text": [
      "API response keys: ['meta', 'results']\n",
      "Number of results: 300\n",
      "Sample result keys: ['status', 'city', 'state', 'country', 'classification', 'openfda', 'product_type', 'event_id', 'recalling_firm', 'address_1', 'address_2', 'postal_code', 'voluntary_mandated', 'initial_firm_notification', 'distribution_pattern', 'recall_number', 'product_description', 'product_quantity', 'reason_for_recall', 'recall_initiation_date', 'center_classification_date', 'report_date', 'code_info']\n",
      "DataFrame columns after normalization: ['status', 'city', 'state', 'country', 'classification', 'product_type', 'event_id', 'recalling_firm', 'address_1', 'address_2', 'postal_code', 'voluntary_mandated', 'initial_firm_notification', 'distribution_pattern', 'recall_number', 'product_description', 'product_quantity', 'reason_for_recall', 'recall_initiation_date', 'center_classification_date', 'report_date', 'code_info', 'openfda.application_number', 'openfda.brand_name', 'openfda.generic_name', 'openfda.manufacturer_name', 'openfda.product_ndc', 'openfda.product_type', 'openfda.route', 'openfda.substance_name', 'openfda.rxcui', 'openfda.spl_id', 'openfda.spl_set_id', 'openfda.package_ndc', 'openfda.is_original_packager', 'openfda.upc', 'openfda.unii', 'more_code_info', 'openfda.nui', 'openfda.pharm_class_epc', 'openfda.pharm_class_cs', 'openfda.pharm_class_pe', 'openfda.pharm_class_moa', 'termination_date', 'openfda.original_packager_product_ndc']\n",
      "Date parsing from 'report_date' successful.\n",
      "Fetched 300 records dynamically from openFDA.\n",
      "Using real API data: 300 records.\n"
     ]
    },
    {
     "data": {
      "application/vnd.plotly.v1+json": {
       "config": {
        "plotlyServerURL": "https://plot.ly"
       },
       "data": [
        {
         "hovertemplate": "Date=%{x}<br>Total_Amount=%{y}<extra></extra>",
         "legendgroup": "",
         "line": {
          "color": "#636efa",
          "dash": "solid"
         },
         "marker": {
          "symbol": "circle"
         },
         "mode": "lines",
         "name": "",
         "orientation": "v",
         "showlegend": false,
         "type": "scatter",
         "x": [
          "2024-10-09",
          "2024-10-23",
          "2024-10-30",
          "2024-11-06",
          "2024-11-13",
          "2024-11-20",
          "2024-11-27",
          "2024-12-04",
          "2024-12-11",
          "2024-12-18",
          "2024-12-25",
          "2025-01-01",
          "2025-01-08",
          "2025-01-15",
          "2025-01-22",
          "2025-01-29",
          "2025-02-05",
          "2025-02-12",
          "2025-02-26",
          "2025-03-05",
          "2025-03-12",
          "2025-03-19",
          "2025-03-26",
          "2025-04-02",
          "2025-04-09",
          "2025-04-16",
          "2025-04-23",
          "2025-04-30",
          "2025-05-07",
          "2025-05-14",
          "2025-05-21",
          "2025-05-28",
          "2025-06-04",
          "2025-06-11",
          "2025-06-18",
          "2025-06-25",
          "2025-07-02",
          "2025-07-09",
          "2025-07-16",
          "2025-07-23",
          "2025-07-30",
          "2025-08-06",
          "2025-08-13",
          "2025-08-20",
          "2025-08-27",
          "2025-09-03",
          "2025-09-10",
          "2025-09-17",
          "2025-09-24",
          "2025-10-01"
         ],
         "xaxis": "x",
         "y": {
          "bdata": "AAAAAAAGuEAAAAAAAAAAAAAAAAAAAAAAAAAAAAAAAAAAAAAAAAAAAAAAAAAAAAAAAAAAAAAAAAAAAAAAAAAAAAAAAAAAAAAAAAAAAAAAAAAAAAAAAAAAAAAAAAAAAAAAAAAAAAAAAAAAAAAAAAAAAAAAAAAAAAAAAAAAAAAAAAAAAAAAAAAAAAAAAAAAAAAAAAAAAAAAAAAAAAAAAAAAAAAAAAAAAAAAAAAAAAAAAAAAAAAAAAAAAAAAAAAAAAAAAAAAAAAAAAAAAAAAAAAAAAAAAAAAAAAAAAAAAAAAAAAAAAAAAAAAAAAAAAAAAAAAAAAAAAAAAAAAAAAAAAAAAAAAAAAAAAAAAAAAAAAAAAAAAAAAAAAAAAAAAAAAAAAAAAAAAAAASUAAAAAAAAAAAAAAAAAAAAAAAAAAAAAAAAAAAAAAAAAAAAAAAAAAAAAAAAAAAAAAAAAAAAAAAAAAAAAAAAAAAAAAAAAAAAAAAAAAAAAAAAAAAAAAAAAAAAAAAAAAAAAAAAAAAAAAAIiTQA==",
          "dtype": "f8"
         },
         "yaxis": "y"
        }
       ],
       "layout": {
        "legend": {
         "tracegroupgap": 0
        },
        "template": {
         "data": {
          "bar": [
           {
            "error_x": {
             "color": "#2a3f5f"
            },
            "error_y": {
             "color": "#2a3f5f"
            },
            "marker": {
             "line": {
              "color": "#E5ECF6",
              "width": 0.5
             },
             "pattern": {
              "fillmode": "overlay",
              "size": 10,
              "solidity": 0.2
             }
            },
            "type": "bar"
           }
          ],
          "barpolar": [
           {
            "marker": {
             "line": {
              "color": "#E5ECF6",
              "width": 0.5
             },
             "pattern": {
              "fillmode": "overlay",
              "size": 10,
              "solidity": 0.2
             }
            },
            "type": "barpolar"
           }
          ],
          "carpet": [
           {
            "aaxis": {
             "endlinecolor": "#2a3f5f",
             "gridcolor": "white",
             "linecolor": "white",
             "minorgridcolor": "white",
             "startlinecolor": "#2a3f5f"
            },
            "baxis": {
             "endlinecolor": "#2a3f5f",
             "gridcolor": "white",
             "linecolor": "white",
             "minorgridcolor": "white",
             "startlinecolor": "#2a3f5f"
            },
            "type": "carpet"
           }
          ],
          "choropleth": [
           {
            "colorbar": {
             "outlinewidth": 0,
             "ticks": ""
            },
            "type": "choropleth"
           }
          ],
          "contour": [
           {
            "colorbar": {
             "outlinewidth": 0,
             "ticks": ""
            },
            "colorscale": [
             [
              0,
              "#0d0887"
             ],
             [
              0.1111111111111111,
              "#46039f"
             ],
             [
              0.2222222222222222,
              "#7201a8"
             ],
             [
              0.3333333333333333,
              "#9c179e"
             ],
             [
              0.4444444444444444,
              "#bd3786"
             ],
             [
              0.5555555555555556,
              "#d8576b"
             ],
             [
              0.6666666666666666,
              "#ed7953"
             ],
             [
              0.7777777777777778,
              "#fb9f3a"
             ],
             [
              0.8888888888888888,
              "#fdca26"
             ],
             [
              1,
              "#f0f921"
             ]
            ],
            "type": "contour"
           }
          ],
          "contourcarpet": [
           {
            "colorbar": {
             "outlinewidth": 0,
             "ticks": ""
            },
            "type": "contourcarpet"
           }
          ],
          "heatmap": [
           {
            "colorbar": {
             "outlinewidth": 0,
             "ticks": ""
            },
            "colorscale": [
             [
              0,
              "#0d0887"
             ],
             [
              0.1111111111111111,
              "#46039f"
             ],
             [
              0.2222222222222222,
              "#7201a8"
             ],
             [
              0.3333333333333333,
              "#9c179e"
             ],
             [
              0.4444444444444444,
              "#bd3786"
             ],
             [
              0.5555555555555556,
              "#d8576b"
             ],
             [
              0.6666666666666666,
              "#ed7953"
             ],
             [
              0.7777777777777778,
              "#fb9f3a"
             ],
             [
              0.8888888888888888,
              "#fdca26"
             ],
             [
              1,
              "#f0f921"
             ]
            ],
            "type": "heatmap"
           }
          ],
          "histogram": [
           {
            "marker": {
             "pattern": {
              "fillmode": "overlay",
              "size": 10,
              "solidity": 0.2
             }
            },
            "type": "histogram"
           }
          ],
          "histogram2d": [
           {
            "colorbar": {
             "outlinewidth": 0,
             "ticks": ""
            },
            "colorscale": [
             [
              0,
              "#0d0887"
             ],
             [
              0.1111111111111111,
              "#46039f"
             ],
             [
              0.2222222222222222,
              "#7201a8"
             ],
             [
              0.3333333333333333,
              "#9c179e"
             ],
             [
              0.4444444444444444,
              "#bd3786"
             ],
             [
              0.5555555555555556,
              "#d8576b"
             ],
             [
              0.6666666666666666,
              "#ed7953"
             ],
             [
              0.7777777777777778,
              "#fb9f3a"
             ],
             [
              0.8888888888888888,
              "#fdca26"
             ],
             [
              1,
              "#f0f921"
             ]
            ],
            "type": "histogram2d"
           }
          ],
          "histogram2dcontour": [
           {
            "colorbar": {
             "outlinewidth": 0,
             "ticks": ""
            },
            "colorscale": [
             [
              0,
              "#0d0887"
             ],
             [
              0.1111111111111111,
              "#46039f"
             ],
             [
              0.2222222222222222,
              "#7201a8"
             ],
             [
              0.3333333333333333,
              "#9c179e"
             ],
             [
              0.4444444444444444,
              "#bd3786"
             ],
             [
              0.5555555555555556,
              "#d8576b"
             ],
             [
              0.6666666666666666,
              "#ed7953"
             ],
             [
              0.7777777777777778,
              "#fb9f3a"
             ],
             [
              0.8888888888888888,
              "#fdca26"
             ],
             [
              1,
              "#f0f921"
             ]
            ],
            "type": "histogram2dcontour"
           }
          ],
          "mesh3d": [
           {
            "colorbar": {
             "outlinewidth": 0,
             "ticks": ""
            },
            "type": "mesh3d"
           }
          ],
          "parcoords": [
           {
            "line": {
             "colorbar": {
              "outlinewidth": 0,
              "ticks": ""
             }
            },
            "type": "parcoords"
           }
          ],
          "pie": [
           {
            "automargin": true,
            "type": "pie"
           }
          ],
          "scatter": [
           {
            "fillpattern": {
             "fillmode": "overlay",
             "size": 10,
             "solidity": 0.2
            },
            "type": "scatter"
           }
          ],
          "scatter3d": [
           {
            "line": {
             "colorbar": {
              "outlinewidth": 0,
              "ticks": ""
             }
            },
            "marker": {
             "colorbar": {
              "outlinewidth": 0,
              "ticks": ""
             }
            },
            "type": "scatter3d"
           }
          ],
          "scattercarpet": [
           {
            "marker": {
             "colorbar": {
              "outlinewidth": 0,
              "ticks": ""
             }
            },
            "type": "scattercarpet"
           }
          ],
          "scattergeo": [
           {
            "marker": {
             "colorbar": {
              "outlinewidth": 0,
              "ticks": ""
             }
            },
            "type": "scattergeo"
           }
          ],
          "scattergl": [
           {
            "marker": {
             "colorbar": {
              "outlinewidth": 0,
              "ticks": ""
             }
            },
            "type": "scattergl"
           }
          ],
          "scattermap": [
           {
            "marker": {
             "colorbar": {
              "outlinewidth": 0,
              "ticks": ""
             }
            },
            "type": "scattermap"
           }
          ],
          "scattermapbox": [
           {
            "marker": {
             "colorbar": {
              "outlinewidth": 0,
              "ticks": ""
             }
            },
            "type": "scattermapbox"
           }
          ],
          "scatterpolar": [
           {
            "marker": {
             "colorbar": {
              "outlinewidth": 0,
              "ticks": ""
             }
            },
            "type": "scatterpolar"
           }
          ],
          "scatterpolargl": [
           {
            "marker": {
             "colorbar": {
              "outlinewidth": 0,
              "ticks": ""
             }
            },
            "type": "scatterpolargl"
           }
          ],
          "scatterternary": [
           {
            "marker": {
             "colorbar": {
              "outlinewidth": 0,
              "ticks": ""
             }
            },
            "type": "scatterternary"
           }
          ],
          "surface": [
           {
            "colorbar": {
             "outlinewidth": 0,
             "ticks": ""
            },
            "colorscale": [
             [
              0,
              "#0d0887"
             ],
             [
              0.1111111111111111,
              "#46039f"
             ],
             [
              0.2222222222222222,
              "#7201a8"
             ],
             [
              0.3333333333333333,
              "#9c179e"
             ],
             [
              0.4444444444444444,
              "#bd3786"
             ],
             [
              0.5555555555555556,
              "#d8576b"
             ],
             [
              0.6666666666666666,
              "#ed7953"
             ],
             [
              0.7777777777777778,
              "#fb9f3a"
             ],
             [
              0.8888888888888888,
              "#fdca26"
             ],
             [
              1,
              "#f0f921"
             ]
            ],
            "type": "surface"
           }
          ],
          "table": [
           {
            "cells": {
             "fill": {
              "color": "#EBF0F8"
             },
             "line": {
              "color": "white"
             }
            },
            "header": {
             "fill": {
              "color": "#C8D4E3"
             },
             "line": {
              "color": "white"
             }
            },
            "type": "table"
           }
          ]
         },
         "layout": {
          "annotationdefaults": {
           "arrowcolor": "#2a3f5f",
           "arrowhead": 0,
           "arrowwidth": 1
          },
          "autotypenumbers": "strict",
          "coloraxis": {
           "colorbar": {
            "outlinewidth": 0,
            "ticks": ""
           }
          },
          "colorscale": {
           "diverging": [
            [
             0,
             "#8e0152"
            ],
            [
             0.1,
             "#c51b7d"
            ],
            [
             0.2,
             "#de77ae"
            ],
            [
             0.3,
             "#f1b6da"
            ],
            [
             0.4,
             "#fde0ef"
            ],
            [
             0.5,
             "#f7f7f7"
            ],
            [
             0.6,
             "#e6f5d0"
            ],
            [
             0.7,
             "#b8e186"
            ],
            [
             0.8,
             "#7fbc41"
            ],
            [
             0.9,
             "#4d9221"
            ],
            [
             1,
             "#276419"
            ]
           ],
           "sequential": [
            [
             0,
             "#0d0887"
            ],
            [
             0.1111111111111111,
             "#46039f"
            ],
            [
             0.2222222222222222,
             "#7201a8"
            ],
            [
             0.3333333333333333,
             "#9c179e"
            ],
            [
             0.4444444444444444,
             "#bd3786"
            ],
            [
             0.5555555555555556,
             "#d8576b"
            ],
            [
             0.6666666666666666,
             "#ed7953"
            ],
            [
             0.7777777777777778,
             "#fb9f3a"
            ],
            [
             0.8888888888888888,
             "#fdca26"
            ],
            [
             1,
             "#f0f921"
            ]
           ],
           "sequentialminus": [
            [
             0,
             "#0d0887"
            ],
            [
             0.1111111111111111,
             "#46039f"
            ],
            [
             0.2222222222222222,
             "#7201a8"
            ],
            [
             0.3333333333333333,
             "#9c179e"
            ],
            [
             0.4444444444444444,
             "#bd3786"
            ],
            [
             0.5555555555555556,
             "#d8576b"
            ],
            [
             0.6666666666666666,
             "#ed7953"
            ],
            [
             0.7777777777777778,
             "#fb9f3a"
            ],
            [
             0.8888888888888888,
             "#fdca26"
            ],
            [
             1,
             "#f0f921"
            ]
           ]
          },
          "colorway": [
           "#636efa",
           "#EF553B",
           "#00cc96",
           "#ab63fa",
           "#FFA15A",
           "#19d3f3",
           "#FF6692",
           "#B6E880",
           "#FF97FF",
           "#FECB52"
          ],
          "font": {
           "color": "#2a3f5f"
          },
          "geo": {
           "bgcolor": "white",
           "lakecolor": "white",
           "landcolor": "#E5ECF6",
           "showlakes": true,
           "showland": true,
           "subunitcolor": "white"
          },
          "hoverlabel": {
           "align": "left"
          },
          "hovermode": "closest",
          "mapbox": {
           "style": "light"
          },
          "paper_bgcolor": "white",
          "plot_bgcolor": "#E5ECF6",
          "polar": {
           "angularaxis": {
            "gridcolor": "white",
            "linecolor": "white",
            "ticks": ""
           },
           "bgcolor": "#E5ECF6",
           "radialaxis": {
            "gridcolor": "white",
            "linecolor": "white",
            "ticks": ""
           }
          },
          "scene": {
           "xaxis": {
            "backgroundcolor": "#E5ECF6",
            "gridcolor": "white",
            "gridwidth": 2,
            "linecolor": "white",
            "showbackground": true,
            "ticks": "",
            "zerolinecolor": "white"
           },
           "yaxis": {
            "backgroundcolor": "#E5ECF6",
            "gridcolor": "white",
            "gridwidth": 2,
            "linecolor": "white",
            "showbackground": true,
            "ticks": "",
            "zerolinecolor": "white"
           },
           "zaxis": {
            "backgroundcolor": "#E5ECF6",
            "gridcolor": "white",
            "gridwidth": 2,
            "linecolor": "white",
            "showbackground": true,
            "ticks": "",
            "zerolinecolor": "white"
           }
          },
          "shapedefaults": {
           "line": {
            "color": "#2a3f5f"
           }
          },
          "ternary": {
           "aaxis": {
            "gridcolor": "white",
            "linecolor": "white",
            "ticks": ""
           },
           "baxis": {
            "gridcolor": "white",
            "linecolor": "white",
            "ticks": ""
           },
           "bgcolor": "#E5ECF6",
           "caxis": {
            "gridcolor": "white",
            "linecolor": "white",
            "ticks": ""
           }
          },
          "title": {
           "x": 0.05
          },
          "xaxis": {
           "automargin": true,
           "gridcolor": "white",
           "linecolor": "white",
           "ticks": "",
           "title": {
            "standoff": 15
           },
           "zerolinecolor": "white",
           "zerolinewidth": 2
          },
          "yaxis": {
           "automargin": true,
           "gridcolor": "white",
           "linecolor": "white",
           "ticks": "",
           "title": {
            "standoff": 15
           },
           "zerolinecolor": "white",
           "zerolinewidth": 2
          }
         }
        },
        "title": {
         "text": "Dynamic Recall Trends (API-Fetched)"
        },
        "xaxis": {
         "anchor": "y",
         "domain": [
          0,
          1
         ],
         "title": {
          "text": "Date"
         }
        },
        "yaxis": {
         "anchor": "x",
         "domain": [
          0,
          1
         ],
         "title": {
          "text": "Total_Amount"
         }
        }
       }
      },
      "image/png": "[encoded data removed]"
     },
     "metadata": {},
     "output_type": "display_data"
    },
    {
     "data": {
      "image/png": "[encoded data removed]",
      "text/plain": [
       "<Figure size 1000x600 with 1 Axes>"
      ]
     },
     "metadata": {},
     "output_type": "display_data"
    },
    {
     "data": {
      "image/png": "[encoded data removed]",
      "text/plain": [
       "<Figure size 800x600 with 2 Axes>"
      ]
     },
     "metadata": {},
     "output_type": "display_data"
    },
    {
     "name": "stdout",
     "output_type": "stream",
     "text": [
      "Average quantity involved: 2.48\n",
      "Most common reason: CGMP Deviations\n",
      "Unique products: 1\n",
      "High severity cases: 300 (100.0%)\n"
     ]
    }
   ],
   "source": [
    "import pandas as pd\n",
    "import numpy as np\n",
    "import matplotlib.pyplot as plt\n",
    "import seaborn as sns\n",
    "import plotly.express as px\n",
    "from api_utils import fetch_pharmacy_data  # Import helper\n",
    "\n",
    "# Dynamic load with shorter range for stability\n",
    "df = fetch_pharmacy_data(limit=300, years_back=1)  # Last year only\n",
    "if df.empty:\n",
    "    print(\"API failed—creating sample fallback data for demo.\")\n",
    "    # Enhanced sample: Full columns for seamless run\n",
    "    np.random.seed(42)  # Reproducible\n",
    "    sample_data = {\n",
    "        'action_date': pd.date_range(start='2024-01-01', periods=100, freq='D'),\n",
    "        'product_name': np.random.choice(['Aspirin', 'Ibuprofen', 'Tylenol', 'Unknown Product'], 100),\n",
    "        'quantity_involved': np.random.randint(1, 100, 100),\n",
    "        'total_amount': np.random.uniform(10, 500, 100),\n",
    "        'reason': np.random.choice(['Quality Issue', 'Labeling Error', 'N/A'], 100),\n",
    "        'severity': np.random.choice(['High', 'Low'], 100)\n",
    "    }\n",
    "    df = pd.DataFrame(sample_data)\n",
    "    print(\"Using sample data—rerun after API stabilizes.\")\n",
    "else:\n",
    "    print(f\"Using real API data: {len(df)} records.\")\n",
    "\n",
    "# Derive missing columns for consistency (real or sample)\n",
    "if 'action_date' not in df.columns:\n",
    "    df['action_date'] = pd.to_datetime(df['report_date'], errors='coerce')  # From API 'report_date'\n",
    "\n",
    "if 'product_name' not in df.columns:\n",
    "    df['product_name'] = df['product_description'].fillna('Unknown Product')  # Use API description\n",
    "\n",
    "if 'reason' not in df.columns:\n",
    "    df['reason'] = df['reason_for_recall'].fillna('N/A')  # API field\n",
    "\n",
    "if 'quantity_involved' not in df.columns:\n",
    "    df['quantity_involved'] = pd.to_numeric(df.get('product_quantity', 1), errors='coerce').fillna(1)  # Mock from API\n",
    "\n",
    "if 'total_amount' not in df.columns:\n",
    "    df['total_amount'] = df['quantity_involved'] * np.random.uniform(5, 50, len(df))  # Mock for analysis\n",
    "\n",
    "# Derive 'severity' if missing (from API classification or reason)\n",
    "if 'severity' not in df.columns:\n",
    "    df['severity'] = df['classification'].fillna('').str.contains('Class I|Serious', case=False, na=False).map({True: 'High', False: 'Low'})\n",
    "    df['severity'] = df['severity'].fillna('Low')  # Default low if no classification\n",
    "\n",
    "# Ensure datetime\n",
    "df['action_date'] = pd.to_datetime(df['action_date'], errors='coerce')\n",
    "\n",
    "# Now safe: Only proceed if df has data\n",
    "if not df.empty and 'action_date' in df.columns:\n",
    "    # Daily trends (fixed groupby and x-axis)\n",
    "    daily_trends = df.groupby(df['action_date'].dt.date)['total_amount'].sum().reset_index()\n",
    "    daily_trends.columns = ['Date', 'Total_Amount']  # Explicit rename\n",
    "    fig1 = px.line(daily_trends, x='Date', y='Total_Amount', title='Dynamic Recall Trends (API-Fetched)')  # Fixed x='Date'\n",
    "    fig1.show()\n",
    "    \n",
    "    # Top products by quantity (fixed seaborn warning)\n",
    "    top_products = df.groupby('product_name')['quantity_involved'].sum().sort_values(ascending=False).head(10)\n",
    "    plt.figure(figsize=(10, 6))\n",
    "    sns.barplot(data=top_products.reset_index(), x='quantity_involved', y='product_name', palette='viridis', hue='product_name', legend=False)  # Hue=y, legend=False\n",
    "    plt.title('Top Products by Quantity Involved (Dynamic Data)')\n",
    "    plt.xlabel('Quantity')\n",
    "    plt.ylabel('Product Name')\n",
    "    plt.tight_layout()\n",
    "    plt.show()\n",
    "    \n",
    "    # Correlation heatmap (numerical only)\n",
    "    numerical_df = df.select_dtypes(include=[np.number])\n",
    "    if not numerical_df.empty:\n",
    "        corr = numerical_df.corr()\n",
    "        plt.figure(figsize=(8, 6))\n",
    "        sns.heatmap(corr, annot=True, cmap='coolwarm', center=0)\n",
    "        plt.title('Dynamic Data Correlations')\n",
    "        plt.tight_layout()\n",
    "        plt.show()\n",
    "    \n",
    "    # Key stats (fixed 'severity' access)\n",
    "    print(f\"Average quantity involved: {df['quantity_involved'].mean():.2f}\")\n",
    "    print(f\"Most common reason: {df['reason'].mode().iloc[0] if not df['reason'].mode().empty else 'N/A'}\")\n",
    "    print(f\"Unique products: {df['product_name'].nunique()}\")\n",
    "    high_sev_count = len(df[df['severity'] == 'High'])\n",
    "    print(f\"High severity cases: {high_sev_count} ({high_sev_count / len(df) * 100:.1f}%)\")\n",
    "else:\n",
    "    print(\"No data available—check API or sample setup.\")"
   ]
  },
  {
   "cell_type": "code",
   "execution_count": null,
   "id": "918379ff",
   "metadata": {},
   "outputs": [],
   "source": []
  }
 ],
 "metadata": {
  "kernelspec": {
   "display_name": "Python 3 (ipykernel)",
   "language": "python",
   "name": "python3"
  },
  "language_info": {
   "codemirror_mode": {
    "name": "ipython",
    "version": 3
   },
   "file_extension": ".py",
   "mimetype": "text/x-python",
   "name": "python",
   "nbconvert_exporter": "python",
   "pygments_lexer": "ipython3",
   "version": "3.13.0"
  }
 },
 "nbformat": 4,
 "nbformat_minor": 5
}
